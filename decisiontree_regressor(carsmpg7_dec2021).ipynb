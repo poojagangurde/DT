{
 "cells": [
  {
   "cell_type": "code",
   "execution_count": 1,
   "id": "56cbac0c",
   "metadata": {},
   "outputs": [],
   "source": [
    "import pandas as pd\n",
    "import numpy as np\n",
    "import matplotlib.pyplot as plt\n",
    "from sklearn.tree import DecisionTreeRegressor\n",
    "from sklearn import tree\n",
    "from sklearn.model_selection import train_test_split\n",
    "from sklearn.metrics import classification_report"
   ]
  },
  {
   "cell_type": "code",
   "execution_count": 2,
   "id": "5ee925ea",
   "metadata": {},
   "outputs": [],
   "source": [
    "mpg=pd.read_csv(\"E:\\\\notebooks file\\\\cars.csv\")"
   ]
  },
  {
   "cell_type": "code",
   "execution_count": 3,
   "id": "717e5bc9",
   "metadata": {},
   "outputs": [
    {
     "data": {
      "text/html": [
       "<div>\n",
       "<style scoped>\n",
       "    .dataframe tbody tr th:only-of-type {\n",
       "        vertical-align: middle;\n",
       "    }\n",
       "\n",
       "    .dataframe tbody tr th {\n",
       "        vertical-align: top;\n",
       "    }\n",
       "\n",
       "    .dataframe thead th {\n",
       "        text-align: right;\n",
       "    }\n",
       "</style>\n",
       "<table border=\"1\" class=\"dataframe\">\n",
       "  <thead>\n",
       "    <tr style=\"text-align: right;\">\n",
       "      <th></th>\n",
       "      <th>HP</th>\n",
       "      <th>MPG</th>\n",
       "      <th>VOL</th>\n",
       "      <th>SP</th>\n",
       "      <th>WT</th>\n",
       "    </tr>\n",
       "  </thead>\n",
       "  <tbody>\n",
       "    <tr>\n",
       "      <th>0</th>\n",
       "      <td>49</td>\n",
       "      <td>53.700681</td>\n",
       "      <td>89</td>\n",
       "      <td>104.185353</td>\n",
       "      <td>28.762059</td>\n",
       "    </tr>\n",
       "    <tr>\n",
       "      <th>1</th>\n",
       "      <td>55</td>\n",
       "      <td>50.013401</td>\n",
       "      <td>92</td>\n",
       "      <td>105.461264</td>\n",
       "      <td>30.466833</td>\n",
       "    </tr>\n",
       "    <tr>\n",
       "      <th>2</th>\n",
       "      <td>55</td>\n",
       "      <td>50.013401</td>\n",
       "      <td>92</td>\n",
       "      <td>105.461264</td>\n",
       "      <td>30.193597</td>\n",
       "    </tr>\n",
       "    <tr>\n",
       "      <th>3</th>\n",
       "      <td>70</td>\n",
       "      <td>45.696322</td>\n",
       "      <td>92</td>\n",
       "      <td>113.461264</td>\n",
       "      <td>30.632114</td>\n",
       "    </tr>\n",
       "    <tr>\n",
       "      <th>4</th>\n",
       "      <td>53</td>\n",
       "      <td>50.504232</td>\n",
       "      <td>92</td>\n",
       "      <td>104.461264</td>\n",
       "      <td>29.889149</td>\n",
       "    </tr>\n",
       "    <tr>\n",
       "      <th>...</th>\n",
       "      <td>...</td>\n",
       "      <td>...</td>\n",
       "      <td>...</td>\n",
       "      <td>...</td>\n",
       "      <td>...</td>\n",
       "    </tr>\n",
       "    <tr>\n",
       "      <th>76</th>\n",
       "      <td>322</td>\n",
       "      <td>36.900000</td>\n",
       "      <td>50</td>\n",
       "      <td>169.598513</td>\n",
       "      <td>16.132947</td>\n",
       "    </tr>\n",
       "    <tr>\n",
       "      <th>77</th>\n",
       "      <td>238</td>\n",
       "      <td>19.197888</td>\n",
       "      <td>115</td>\n",
       "      <td>150.576579</td>\n",
       "      <td>37.923113</td>\n",
       "    </tr>\n",
       "    <tr>\n",
       "      <th>78</th>\n",
       "      <td>263</td>\n",
       "      <td>34.000000</td>\n",
       "      <td>50</td>\n",
       "      <td>151.598513</td>\n",
       "      <td>15.769625</td>\n",
       "    </tr>\n",
       "    <tr>\n",
       "      <th>79</th>\n",
       "      <td>295</td>\n",
       "      <td>19.833733</td>\n",
       "      <td>119</td>\n",
       "      <td>167.944460</td>\n",
       "      <td>39.423099</td>\n",
       "    </tr>\n",
       "    <tr>\n",
       "      <th>80</th>\n",
       "      <td>236</td>\n",
       "      <td>12.101263</td>\n",
       "      <td>107</td>\n",
       "      <td>139.840817</td>\n",
       "      <td>34.948615</td>\n",
       "    </tr>\n",
       "  </tbody>\n",
       "</table>\n",
       "<p>81 rows × 5 columns</p>\n",
       "</div>"
      ],
      "text/plain": [
       "     HP        MPG  VOL          SP         WT\n",
       "0    49  53.700681   89  104.185353  28.762059\n",
       "1    55  50.013401   92  105.461264  30.466833\n",
       "2    55  50.013401   92  105.461264  30.193597\n",
       "3    70  45.696322   92  113.461264  30.632114\n",
       "4    53  50.504232   92  104.461264  29.889149\n",
       "..  ...        ...  ...         ...        ...\n",
       "76  322  36.900000   50  169.598513  16.132947\n",
       "77  238  19.197888  115  150.576579  37.923113\n",
       "78  263  34.000000   50  151.598513  15.769625\n",
       "79  295  19.833733  119  167.944460  39.423099\n",
       "80  236  12.101263  107  139.840817  34.948615\n",
       "\n",
       "[81 rows x 5 columns]"
      ]
     },
     "execution_count": 3,
     "metadata": {},
     "output_type": "execute_result"
    }
   ],
   "source": [
    "mpg"
   ]
  },
  {
   "cell_type": "code",
   "execution_count": 4,
   "id": "0fc66383",
   "metadata": {},
   "outputs": [
    {
     "data": {
      "text/plain": [
       "HP     0\n",
       "MPG    0\n",
       "VOL    0\n",
       "SP     0\n",
       "WT     0\n",
       "dtype: int64"
      ]
     },
     "execution_count": 4,
     "metadata": {},
     "output_type": "execute_result"
    }
   ],
   "source": [
    "mpg.isnull().sum()"
   ]
  },
  {
   "cell_type": "code",
   "execution_count": 5,
   "id": "7a29f649",
   "metadata": {},
   "outputs": [],
   "source": [
    "x=mpg.loc[:,['HP','VOL','SP','WT']]"
   ]
  },
  {
   "cell_type": "code",
   "execution_count": 6,
   "id": "fba9cbfa",
   "metadata": {},
   "outputs": [
    {
     "data": {
      "text/html": [
       "<div>\n",
       "<style scoped>\n",
       "    .dataframe tbody tr th:only-of-type {\n",
       "        vertical-align: middle;\n",
       "    }\n",
       "\n",
       "    .dataframe tbody tr th {\n",
       "        vertical-align: top;\n",
       "    }\n",
       "\n",
       "    .dataframe thead th {\n",
       "        text-align: right;\n",
       "    }\n",
       "</style>\n",
       "<table border=\"1\" class=\"dataframe\">\n",
       "  <thead>\n",
       "    <tr style=\"text-align: right;\">\n",
       "      <th></th>\n",
       "      <th>HP</th>\n",
       "      <th>VOL</th>\n",
       "      <th>SP</th>\n",
       "      <th>WT</th>\n",
       "    </tr>\n",
       "  </thead>\n",
       "  <tbody>\n",
       "    <tr>\n",
       "      <th>0</th>\n",
       "      <td>49</td>\n",
       "      <td>89</td>\n",
       "      <td>104.185353</td>\n",
       "      <td>28.762059</td>\n",
       "    </tr>\n",
       "    <tr>\n",
       "      <th>1</th>\n",
       "      <td>55</td>\n",
       "      <td>92</td>\n",
       "      <td>105.461264</td>\n",
       "      <td>30.466833</td>\n",
       "    </tr>\n",
       "    <tr>\n",
       "      <th>2</th>\n",
       "      <td>55</td>\n",
       "      <td>92</td>\n",
       "      <td>105.461264</td>\n",
       "      <td>30.193597</td>\n",
       "    </tr>\n",
       "    <tr>\n",
       "      <th>3</th>\n",
       "      <td>70</td>\n",
       "      <td>92</td>\n",
       "      <td>113.461264</td>\n",
       "      <td>30.632114</td>\n",
       "    </tr>\n",
       "    <tr>\n",
       "      <th>4</th>\n",
       "      <td>53</td>\n",
       "      <td>92</td>\n",
       "      <td>104.461264</td>\n",
       "      <td>29.889149</td>\n",
       "    </tr>\n",
       "    <tr>\n",
       "      <th>...</th>\n",
       "      <td>...</td>\n",
       "      <td>...</td>\n",
       "      <td>...</td>\n",
       "      <td>...</td>\n",
       "    </tr>\n",
       "    <tr>\n",
       "      <th>76</th>\n",
       "      <td>322</td>\n",
       "      <td>50</td>\n",
       "      <td>169.598513</td>\n",
       "      <td>16.132947</td>\n",
       "    </tr>\n",
       "    <tr>\n",
       "      <th>77</th>\n",
       "      <td>238</td>\n",
       "      <td>115</td>\n",
       "      <td>150.576579</td>\n",
       "      <td>37.923113</td>\n",
       "    </tr>\n",
       "    <tr>\n",
       "      <th>78</th>\n",
       "      <td>263</td>\n",
       "      <td>50</td>\n",
       "      <td>151.598513</td>\n",
       "      <td>15.769625</td>\n",
       "    </tr>\n",
       "    <tr>\n",
       "      <th>79</th>\n",
       "      <td>295</td>\n",
       "      <td>119</td>\n",
       "      <td>167.944460</td>\n",
       "      <td>39.423099</td>\n",
       "    </tr>\n",
       "    <tr>\n",
       "      <th>80</th>\n",
       "      <td>236</td>\n",
       "      <td>107</td>\n",
       "      <td>139.840817</td>\n",
       "      <td>34.948615</td>\n",
       "    </tr>\n",
       "  </tbody>\n",
       "</table>\n",
       "<p>81 rows × 4 columns</p>\n",
       "</div>"
      ],
      "text/plain": [
       "     HP  VOL          SP         WT\n",
       "0    49   89  104.185353  28.762059\n",
       "1    55   92  105.461264  30.466833\n",
       "2    55   92  105.461264  30.193597\n",
       "3    70   92  113.461264  30.632114\n",
       "4    53   92  104.461264  29.889149\n",
       "..  ...  ...         ...        ...\n",
       "76  322   50  169.598513  16.132947\n",
       "77  238  115  150.576579  37.923113\n",
       "78  263   50  151.598513  15.769625\n",
       "79  295  119  167.944460  39.423099\n",
       "80  236  107  139.840817  34.948615\n",
       "\n",
       "[81 rows x 4 columns]"
      ]
     },
     "execution_count": 6,
     "metadata": {},
     "output_type": "execute_result"
    }
   ],
   "source": [
    "x"
   ]
  },
  {
   "cell_type": "code",
   "execution_count": 7,
   "id": "e1391f97",
   "metadata": {},
   "outputs": [],
   "source": [
    "y=mpg.iloc[:,1]"
   ]
  },
  {
   "cell_type": "code",
   "execution_count": 8,
   "id": "a7ab51b9",
   "metadata": {},
   "outputs": [
    {
     "data": {
      "text/plain": [
       "0     53.700681\n",
       "1     50.013401\n",
       "2     50.013401\n",
       "3     45.696322\n",
       "4     50.504232\n",
       "        ...    \n",
       "76    36.900000\n",
       "77    19.197888\n",
       "78    34.000000\n",
       "79    19.833733\n",
       "80    12.101263\n",
       "Name: MPG, Length: 81, dtype: float64"
      ]
     },
     "execution_count": 8,
     "metadata": {},
     "output_type": "execute_result"
    }
   ],
   "source": [
    "y"
   ]
  },
  {
   "cell_type": "code",
   "execution_count": 9,
   "id": "a5dfbd77",
   "metadata": {},
   "outputs": [],
   "source": [
    "x=x.values"
   ]
  },
  {
   "cell_type": "code",
   "execution_count": 10,
   "id": "b646d3fa",
   "metadata": {},
   "outputs": [
    {
     "data": {
      "text/plain": [
       "array([[ 49.        ,  89.        , 104.1853528 ,  28.7620589 ],\n",
       "       [ 55.        ,  92.        , 105.4612635 ,  30.46683298],\n",
       "       [ 55.        ,  92.        , 105.4612635 ,  30.19359657],\n",
       "       [ 70.        ,  92.        , 113.4612635 ,  30.63211391],\n",
       "       [ 53.        ,  92.        , 104.4612635 ,  29.88914864],\n",
       "       [ 70.        ,  89.        , 113.1853528 ,  29.59176832],\n",
       "       [ 55.        ,  92.        , 105.4612635 ,  30.30847957],\n",
       "       [ 62.        ,  50.        , 102.5985128 ,  15.84775807],\n",
       "       [ 62.        ,  50.        , 102.5985128 ,  16.35948352],\n",
       "       [ 80.        ,  94.        , 115.6452041 ,  30.92015417],\n",
       "       [ 73.        ,  89.        , 111.1853528 ,  29.36334142],\n",
       "       [ 92.        ,  50.        , 117.5985128 ,  15.75353468],\n",
       "       [ 92.        ,  99.        , 122.1050553 ,  32.81359241],\n",
       "       [ 73.        ,  89.        , 111.1853528 ,  29.3784363 ],\n",
       "       [ 66.        ,  89.        , 108.1853528 ,  29.34727902],\n",
       "       [ 73.        ,  89.        , 111.1853528 ,  29.60452658],\n",
       "       [ 78.        ,  91.        , 114.3692933 ,  29.5357836 ],\n",
       "       [ 92.        ,  50.        , 117.5985128 ,  16.19412154],\n",
       "       [ 78.        ,  91.        , 114.3692933 ,  29.92939368],\n",
       "       [ 90.        , 103.        , 118.4729364 ,  33.51697417],\n",
       "       [ 92.        ,  99.        , 119.1050553 ,  32.32464971],\n",
       "       [ 74.        , 107.        , 110.8408174 ,  34.90821127],\n",
       "       [ 95.        , 101.        , 120.2889958 ,  32.6758277 ],\n",
       "       [ 81.        ,  96.        , 113.8291446 ,  31.83712236],\n",
       "       [ 95.        ,  89.        , 119.1853528 ,  28.78172789],\n",
       "       [ 92.        ,  50.        , 114.5985128 ,  16.04317492],\n",
       "       [ 92.        , 117.        , 120.7605199 ,  38.06282335],\n",
       "       [ 92.        ,  99.        , 119.1050553 ,  32.83506939],\n",
       "       [ 52.        , 104.        ,  99.56490661,  34.4832075 ],\n",
       "       [103.        , 107.        , 121.8408174 ,  35.54935984],\n",
       "       [ 84.        , 114.        , 113.4846092 ,  37.04235003],\n",
       "       [ 84.        , 101.        , 112.2889958 ,  33.23436141],\n",
       "       [102.        ,  97.        , 119.9211148 ,  31.38004084],\n",
       "       [102.        , 113.        , 121.3926389 ,  37.57328965],\n",
       "       [ 81.        , 101.        , 111.2889958 ,  32.701644  ],\n",
       "       [ 90.        ,  98.        , 115.0130851 ,  31.9112234 ],\n",
       "       [ 90.        ,  88.        , 114.0933825 ,  28.75400008],\n",
       "       [102.        ,  86.        , 116.909442  ,  27.87991549],\n",
       "       [102.        ,  86.        , 116.909442  ,  28.63050247],\n",
       "       [130.        ,  92.        , 128.4612635 ,  30.11543403],\n",
       "       [ 95.        , 113.        , 116.3926389 ,  37.39252442],\n",
       "       [ 95.        , 106.        , 115.7488471 ,  35.02717556],\n",
       "       [102.        ,  92.        , 117.4612635 ,  30.52742698],\n",
       "       [ 95.        ,  88.        , 114.0933825 ,  28.34397592],\n",
       "       [ 93.        , 102.        , 114.3809661 ,  33.07863163],\n",
       "       [100.        ,  99.        , 117.1050553 ,  32.62191589],\n",
       "       [100.        , 111.        , 118.2086984 ,  36.49861738],\n",
       "       [ 98.        , 103.        , 116.4729364 ,  33.91005598],\n",
       "       [130.        ,  86.        , 127.909442  ,  28.07059654],\n",
       "       [115.        , 101.        , 118.2889958 ,  33.45847152],\n",
       "       [115.        , 101.        , 118.2889958 ,  33.21395395],\n",
       "       [115.        , 101.        , 118.2889958 ,  33.43671117],\n",
       "       [115.        , 124.        , 120.4043117 ,  40.39816357],\n",
       "       [180.        , 113.        , 143.3926389 ,  37.62069475],\n",
       "       [160.        , 113.        , 135.3926389 ,  37.25439197],\n",
       "       [130.        , 124.        , 126.4043117 ,  40.58906845],\n",
       "       [ 96.        ,  92.        , 110.4612635 ,  30.14754329],\n",
       "       [115.        , 101.        , 118.2889958 ,  32.73451818],\n",
       "       [100.        ,  94.        , 112.6452041 ,  30.61528334],\n",
       "       [100.        , 115.        , 115.5765794 ,  37.66287367],\n",
       "       [145.        , 111.        , 130.2086984 ,  36.88815313],\n",
       "       [120.        , 116.        , 117.6685497 ,  37.86041143],\n",
       "       [140.        , 131.        , 126.0481035 ,  43.3909885 ],\n",
       "       [140.        , 123.        , 125.3123415 ,  40.72283115],\n",
       "       [150.        , 121.        , 128.128401  ,  40.15948186],\n",
       "       [165.        ,  50.        , 126.5985128 ,  15.71285853],\n",
       "       [165.        , 114.        , 132.4846092 ,  37.97995604],\n",
       "       [165.        , 127.        , 133.6802225 ,  41.57397476],\n",
       "       [165.        , 123.        , 133.3123415 ,  40.47204238],\n",
       "       [245.        , 112.        , 158.3006687 ,  37.14173328],\n",
       "       [280.        ,  50.        , 164.5985128 ,  15.82306042],\n",
       "       [162.        , 135.        , 133.4159845 ,  44.01313857],\n",
       "       [162.        , 132.        , 133.1400738 ,  43.35312292],\n",
       "       [140.        , 160.        , 124.7152409 ,  52.99775236],\n",
       "       [140.        , 129.        , 121.864163  ,  42.61869847],\n",
       "       [175.        , 129.        , 132.864163  ,  42.77821864],\n",
       "       [322.        ,  50.        , 169.5985128 ,  16.13294744],\n",
       "       [238.        , 115.        , 150.5765794 ,  37.92311321],\n",
       "       [263.        ,  50.        , 151.5985128 ,  15.76962542],\n",
       "       [295.        , 119.        , 167.9444604 ,  39.42309899],\n",
       "       [236.        , 107.        , 139.8408174 ,  34.94861469]])"
      ]
     },
     "execution_count": 10,
     "metadata": {},
     "output_type": "execute_result"
    }
   ],
   "source": [
    "x"
   ]
  },
  {
   "cell_type": "code",
   "execution_count": 11,
   "id": "aeacb47d",
   "metadata": {},
   "outputs": [],
   "source": [
    "y=y.values"
   ]
  },
  {
   "cell_type": "code",
   "execution_count": 12,
   "id": "c1fb711e",
   "metadata": {},
   "outputs": [
    {
     "data": {
      "text/plain": [
       "array([53.70068138, 50.01340115, 50.01340115, 45.69632238, 50.50423183,\n",
       "       45.69632238, 50.01340115, 46.71655428, 46.71655428, 42.29907817,\n",
       "       44.65283424, 39.3540941 , 39.3540941 , 44.65283424, 45.73489292,\n",
       "       44.65283424, 42.78990885, 39.3540941 , 42.78990885, 38.90183397,\n",
       "       38.4110033 , 42.8284794 , 38.31060597, 40.47472334, 38.31060597,\n",
       "       38.4110033 , 38.4110033 , 38.4110033 , 43.4694339 , 35.40419245,\n",
       "       39.4312352 , 39.4312352 , 36.28545648, 36.28545648, 39.53163253,\n",
       "       37.95874317, 37.95874317, 34.07066829, 34.07066829, 31.01413094,\n",
       "       35.15272697, 35.15272697, 34.07066829, 35.15272697, 35.64355765,\n",
       "       34.56149897, 34.56149897, 35.05232964, 31.01413094, 29.62993595,\n",
       "       29.62993595, 29.62993595, 29.62993595, 24.48736667, 26.85227868,\n",
       "       27.85625194, 31.11358394, 29.62993595, 30.13192258, 28.8602252 ,\n",
       "       27.35426531, 24.60913156, 23.51591693, 23.51591693, 23.60515831,\n",
       "       40.05      , 23.10317168, 23.10317168, 23.10317168, 21.27370792,\n",
       "       19.67850666, 23.203569  , 23.203569  , 19.08634055, 19.08634055,\n",
       "       18.76283667, 36.9       , 19.1978876 , 34.        , 19.83373318,\n",
       "       12.10126289])"
      ]
     },
     "execution_count": 12,
     "metadata": {},
     "output_type": "execute_result"
    }
   ],
   "source": [
    "y"
   ]
  },
  {
   "cell_type": "code",
   "execution_count": 13,
   "id": "56841419",
   "metadata": {},
   "outputs": [],
   "source": [
    "x_train,x_test,y_train,y_test=train_test_split(x,y,test_size=0.2,random_state=10)"
   ]
  },
  {
   "cell_type": "code",
   "execution_count": 14,
   "id": "8a4954d2",
   "metadata": {},
   "outputs": [],
   "source": [
    "model=DecisionTreeRegressor()"
   ]
  },
  {
   "cell_type": "code",
   "execution_count": 15,
   "id": "ace0975e",
   "metadata": {},
   "outputs": [
    {
     "data": {
      "text/html": [
       "<style>#sk-container-id-1 {color: black;}#sk-container-id-1 pre{padding: 0;}#sk-container-id-1 div.sk-toggleable {background-color: white;}#sk-container-id-1 label.sk-toggleable__label {cursor: pointer;display: block;width: 100%;margin-bottom: 0;padding: 0.3em;box-sizing: border-box;text-align: center;}#sk-container-id-1 label.sk-toggleable__label-arrow:before {content: \"▸\";float: left;margin-right: 0.25em;color: #696969;}#sk-container-id-1 label.sk-toggleable__label-arrow:hover:before {color: black;}#sk-container-id-1 div.sk-estimator:hover label.sk-toggleable__label-arrow:before {color: black;}#sk-container-id-1 div.sk-toggleable__content {max-height: 0;max-width: 0;overflow: hidden;text-align: left;background-color: #f0f8ff;}#sk-container-id-1 div.sk-toggleable__content pre {margin: 0.2em;color: black;border-radius: 0.25em;background-color: #f0f8ff;}#sk-container-id-1 input.sk-toggleable__control:checked~div.sk-toggleable__content {max-height: 200px;max-width: 100%;overflow: auto;}#sk-container-id-1 input.sk-toggleable__control:checked~label.sk-toggleable__label-arrow:before {content: \"▾\";}#sk-container-id-1 div.sk-estimator input.sk-toggleable__control:checked~label.sk-toggleable__label {background-color: #d4ebff;}#sk-container-id-1 div.sk-label input.sk-toggleable__control:checked~label.sk-toggleable__label {background-color: #d4ebff;}#sk-container-id-1 input.sk-hidden--visually {border: 0;clip: rect(1px 1px 1px 1px);clip: rect(1px, 1px, 1px, 1px);height: 1px;margin: -1px;overflow: hidden;padding: 0;position: absolute;width: 1px;}#sk-container-id-1 div.sk-estimator {font-family: monospace;background-color: #f0f8ff;border: 1px dotted black;border-radius: 0.25em;box-sizing: border-box;margin-bottom: 0.5em;}#sk-container-id-1 div.sk-estimator:hover {background-color: #d4ebff;}#sk-container-id-1 div.sk-parallel-item::after {content: \"\";width: 100%;border-bottom: 1px solid gray;flex-grow: 1;}#sk-container-id-1 div.sk-label:hover label.sk-toggleable__label {background-color: #d4ebff;}#sk-container-id-1 div.sk-serial::before {content: \"\";position: absolute;border-left: 1px solid gray;box-sizing: border-box;top: 0;bottom: 0;left: 50%;z-index: 0;}#sk-container-id-1 div.sk-serial {display: flex;flex-direction: column;align-items: center;background-color: white;padding-right: 0.2em;padding-left: 0.2em;position: relative;}#sk-container-id-1 div.sk-item {position: relative;z-index: 1;}#sk-container-id-1 div.sk-parallel {display: flex;align-items: stretch;justify-content: center;background-color: white;position: relative;}#sk-container-id-1 div.sk-item::before, #sk-container-id-1 div.sk-parallel-item::before {content: \"\";position: absolute;border-left: 1px solid gray;box-sizing: border-box;top: 0;bottom: 0;left: 50%;z-index: -1;}#sk-container-id-1 div.sk-parallel-item {display: flex;flex-direction: column;z-index: 1;position: relative;background-color: white;}#sk-container-id-1 div.sk-parallel-item:first-child::after {align-self: flex-end;width: 50%;}#sk-container-id-1 div.sk-parallel-item:last-child::after {align-self: flex-start;width: 50%;}#sk-container-id-1 div.sk-parallel-item:only-child::after {width: 0;}#sk-container-id-1 div.sk-dashed-wrapped {border: 1px dashed gray;margin: 0 0.4em 0.5em 0.4em;box-sizing: border-box;padding-bottom: 0.4em;background-color: white;}#sk-container-id-1 div.sk-label label {font-family: monospace;font-weight: bold;display: inline-block;line-height: 1.2em;}#sk-container-id-1 div.sk-label-container {text-align: center;}#sk-container-id-1 div.sk-container {/* jupyter's `normalize.less` sets `[hidden] { display: none; }` but bootstrap.min.css set `[hidden] { display: none !important; }` so we also need the `!important` here to be able to override the default hidden behavior on the sphinx rendered scikit-learn.org. See: https://github.com/scikit-learn/scikit-learn/issues/21755 */display: inline-block !important;position: relative;}#sk-container-id-1 div.sk-text-repr-fallback {display: none;}</style><div id=\"sk-container-id-1\" class=\"sk-top-container\"><div class=\"sk-text-repr-fallback\"><pre>DecisionTreeRegressor()</pre><b>In a Jupyter environment, please rerun this cell to show the HTML representation or trust the notebook. <br />On GitHub, the HTML representation is unable to render, please try loading this page with nbviewer.org.</b></div><div class=\"sk-container\" hidden><div class=\"sk-item\"><div class=\"sk-estimator sk-toggleable\"><input class=\"sk-toggleable__control sk-hidden--visually\" id=\"sk-estimator-id-1\" type=\"checkbox\" checked><label for=\"sk-estimator-id-1\" class=\"sk-toggleable__label sk-toggleable__label-arrow\">DecisionTreeRegressor</label><div class=\"sk-toggleable__content\"><pre>DecisionTreeRegressor()</pre></div></div></div></div></div>"
      ],
      "text/plain": [
       "DecisionTreeRegressor()"
      ]
     },
     "execution_count": 15,
     "metadata": {},
     "output_type": "execute_result"
    }
   ],
   "source": [
    "model.fit(x_train,y_train)"
   ]
  },
  {
   "cell_type": "code",
   "execution_count": 16,
   "id": "5b9540a5",
   "metadata": {},
   "outputs": [
    {
     "data": {
      "text/plain": [
       "0.865677559267369"
      ]
     },
     "execution_count": 16,
     "metadata": {},
     "output_type": "execute_result"
    }
   ],
   "source": [
    "model.score(x_test,y_test)"
   ]
  },
  {
   "cell_type": "code",
   "execution_count": null,
   "id": "8bda0f71",
   "metadata": {},
   "outputs": [],
   "source": []
  }
 ],
 "metadata": {
  "kernelspec": {
   "display_name": "Python 3 (ipykernel)",
   "language": "python",
   "name": "python3"
  },
  "language_info": {
   "codemirror_mode": {
    "name": "ipython",
    "version": 3
   },
   "file_extension": ".py",
   "mimetype": "text/x-python",
   "name": "python",
   "nbconvert_exporter": "python",
   "pygments_lexer": "ipython3",
   "version": "3.11.5"
  }
 },
 "nbformat": 4,
 "nbformat_minor": 5
}
